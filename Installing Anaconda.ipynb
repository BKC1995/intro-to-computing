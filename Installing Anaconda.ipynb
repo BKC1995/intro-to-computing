{
 "cells": [
  {
   "cell_type": "markdown",
   "metadata": {},
   "source": [
    "# First Install Anaconda\n",
    "- https://www.anaconda.com/products/individual\n",
    "- Windows users: must use graphical installer\n",
    "- Linux users: must use the terminal\n",
    "- Mac: option to choose method you prefer\n",
    "- Installing about 3GB so might take some time\n",
    "\n",
    "# After installation\n",
    "If you search anaconda on Windows should have a gui and anaconda prompt - open anaconda prompt.\n",
    "\n",
    "For Mac/Linux users open the command line (launchpad+type \"terminal\"/ ctrl+alt+t)\n",
    "\n",
    "Try `conda info` - what response to you get?"
   ]
  },
  {
   "cell_type": "markdown",
   "metadata": {},
   "source": [
    "# Setting up a conda environment\n",
    "\n",
    "Great cheat sheet if you forget how to set up an environment: https://docs.conda.io/projects/conda/en/4.6.0/_downloads/52a95608c49671267e40c689e0bc00ca/conda-cheatsheet.pdf\n",
    "\n",
    "- What environemnts have you set up: `conda env list`\n",
    "- Activate an environment: `conda activate <env_name>` (windows users: `activate <env_name>`)\n",
    "- Create a new environment: `conda create --name <env_name> python=3.7`\n",
    "- What packages does the current environemnt have: `conda list`\n",
    "- Does this environment have \"numpy\"? `conda list num`\n",
    "- Set up environment from a requirements file `conda env create --file requirements.txt`\n",
    "- Install packages `conda install jupyter`"
   ]
  },
  {
   "cell_type": "markdown",
   "metadata": {},
   "source": [
    "# Opening jupyter notebooks\n",
    "\n",
    "Open or create a conda environemnt. Make sure it has jupyter installed (how can you easily check this)\n",
    "\n",
    "Then type: `jupyter notebook`\n",
    "\n",
    "\n",
    "Shutdown session with `ctrl+c`"
   ]
  },
  {
   "cell_type": "markdown",
   "metadata": {},
   "source": [
    "# Julia in jupyter notebooks\n",
    "\n",
    "Go to the julia command line \n",
    "\n",
    "type:\n",
    "- `using Pkg`\n",
    "- `Pkg.add(\"IJulia\")`\n",
    "- `exit()`"
   ]
  },
  {
   "cell_type": "code",
   "execution_count": null,
   "metadata": {},
   "outputs": [],
   "source": []
  }
 ],
 "metadata": {
  "kernelspec": {
   "display_name": "Python 3",
   "language": "python",
   "name": "python3"
  },
  "language_info": {
   "codemirror_mode": {
    "name": "ipython",
    "version": 3
   },
   "file_extension": ".py",
   "mimetype": "text/x-python",
   "name": "python",
   "nbconvert_exporter": "python",
   "pygments_lexer": "ipython3",
   "version": "3.5.6"
  }
 },
 "nbformat": 4,
 "nbformat_minor": 4
}
